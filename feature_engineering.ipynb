{
 "cells": [
  {
   "cell_type": "code",
   "execution_count": 1,
   "metadata": {},
   "outputs": [],
   "source": [
    "import pandas as pd\n",
    "import numpy as np\n",
    "import matplotlib.pyplot as plt"
   ]
  },
  {
   "cell_type": "code",
   "execution_count": null,
   "metadata": {},
   "outputs": [],
   "source": [
    "test_transaction = pd.read_csv('test_transaction.csv')\n",
    "train_identity = pd.read_csv('train_identity.csv')\n",
    "test_identity = pd.read_csv('test_identity.csv')\n",
    "train_transaction = pd.read_csv('train_transaction.csv')\n",
    "\n",
    "pd.set_option('display.max_columns', 500)\n",
    "pd.set_option('display.max_rows', 500)"
   ]
  },
  {
   "cell_type": "markdown",
   "metadata": {},
   "source": [
    "calculating on which transaction happened"
   ]
  },
  {
   "cell_type": "code",
   "execution_count": null,
   "metadata": {},
   "outputs": [],
   "source": [
    "test_transaction['day'] = np.ceil(test_transaction.TransactionDT / 86400)\n",
    "train_transaction['day'] = np.ceil(train_transaction.TransactionDT / 86400)"
   ]
  },
  {
   "cell_type": "markdown",
   "metadata": {},
   "source": [
    "average amount spent per day by card1"
   ]
  },
  {
   "cell_type": "code",
   "execution_count": null,
   "metadata": {},
   "outputs": [],
   "source": [
    "avg_amt_day = test_transaction[['day', 'card1', 'TransactionAmt']].groupby(by=['day', 'card1'])['TransactionAmt'].mean().reset_index()\n",
    "test_transaction['avg_amt_day'] = avg_amt_day['TransactionAmt']\n",
    "\n",
    "avg_amt_day = train_transaction[['day', 'card1', 'TransactionAmt']].groupby(by=['day', 'card1'])['TransactionAmt'].mean().reset_index()\n",
    "train_transaction['avg_amt_day'] = avg_amt_day['TransactionAmt']\n",
    "del avg_amt_day"
   ]
  },
  {
   "cell_type": "markdown",
   "metadata": {},
   "source": [
    "average amount spent totally by **card1**"
   ]
  },
  {
   "cell_type": "code",
   "execution_count": null,
   "metadata": {},
   "outputs": [],
   "source": [
    "avg_amt_spent = train_transaction[['card1', 'TransactionAmt']].groupby(['card1']).sum()\n",
    "avg_amt_spent = avg_amt_spent.rename(columns={'TransactionAmt':'avg_amt_spent'})\n",
    "train_transaction = train_transaction.merge(avg_amt_spent, on='card1', how='left').reset_index()\n",
    "\n",
    "avg_amt_spent = test_transaction[['card1', 'TransactionAmt']].groupby(['card1']).sum()\n",
    "avg_amt_spent = avg_amt_spent.rename(columns={'TransactionAmt':'avg_amt_spent'})\n",
    "test_transaction = test_transaction.merge(avg_amt_spent, on='card1', how='left').reset_index()\n",
    "del avg_amt_spent"
   ]
  },
  {
   "cell_type": "markdown",
   "metadata": {},
   "source": [
    "std amount spent totally by card1"
   ]
  },
  {
   "cell_type": "code",
   "execution_count": null,
   "metadata": {},
   "outputs": [],
   "source": [
    "std_amt_spent = train_transaction[['card1', 'TransactionAmt']].groupby(['card1']).std()\n",
    "std_amt_spent = std_amt_spent.rename(columns={'TransactionAmt':'std_amt_spent'})\n",
    "train_transaction = train_transaction.merge(std_amt_spent, on='card1', how='left').reset_index()"
   ]
  },
  {
   "cell_type": "code",
   "execution_count": null,
   "metadata": {},
   "outputs": [],
   "source": [
    "std_amt_spent = test_transaction[['card1', 'TransactionAmt']].groupby(['card1']).std()\n",
    "std_amt_spent = std_amt_spent.rename(columns={'TransactionAmt':'std_amt_spent'})\n",
    "test_transaction = test_transaction.merge(std_amt_spent, on='card1', how='left').reset_index()\n",
    "del std_amt_spent"
   ]
  },
  {
   "cell_type": "markdown",
   "metadata": {},
   "source": [
    "average amount spent on **card1** by using card type **card6**"
   ]
  },
  {
   "cell_type": "code",
   "execution_count": null,
   "metadata": {},
   "outputs": [],
   "source": [
    "avg_amt_card_type = test_transaction[['card6', 'card1', 'TransactionAmt']].groupby(by=['card6', 'card1'])['TransactionAmt'].mean().reset_index()\n",
    "test_transaction['avg_amt_card_type'] = avg_amt_card_type['TransactionAmt']\n",
    "\n",
    "avg_amt_card_type = train_transaction[['card6', 'card1', 'TransactionAmt']].groupby(by=['card6', 'card1'])['TransactionAmt'].mean().reset_index()\n",
    "train_transaction['avg_amt_card_type'] = avg_amt_card_type['TransactionAmt']\n",
    "del avg_amt_card_type"
   ]
  },
  {
   "cell_type": "markdown",
   "metadata": {},
   "source": [
    "number of times card used today until current transaction using **card1**"
   ]
  },
  {
   "cell_type": "code",
   "execution_count": null,
   "metadata": {},
   "outputs": [],
   "source": [
    "train_transaction['card_used'] = 1\n",
    "train_transaction['card_used_till_now_today'] = train_transaction[['card1', 'day','card_used']].groupby(['card1', 'day'])['card_used'].apply(lambda x: x.cumsum())"
   ]
  },
  {
   "cell_type": "code",
   "execution_count": null,
   "metadata": {},
   "outputs": [],
   "source": [
    "del train_transaction['card_used']\n",
    "\n",
    "test_transaction['card_used'] = 1\n",
    "test_transaction['card_used_till_now_today'] = test_transaction[['card1', 'day','card_used']].groupby(['card1', 'day'])['card_used'].apply(lambda x: x.cumsum())\n",
    "del test_transaction['card_used']"
   ]
  },
  {
   "cell_type": "code",
   "execution_count": null,
   "metadata": {},
   "outputs": [],
   "source": [
    "train = pd.merge(train_transaction,train_identity,on='TransactionID', how='left')\n",
    "test = pd.merge(test_transaction, test_identity, on='TransactionID', how='left')\n",
    "\n",
    "print('train dataset shape', train.shape)\n",
    "print('test dataset shape', test.shape)"
   ]
  },
  {
   "cell_type": "code",
   "execution_count": null,
   "metadata": {},
   "outputs": [],
   "source": [
    "test[:30].to_csv('test.csv', columns=test.columns)"
   ]
  },
  {
   "cell_type": "code",
   "execution_count": null,
   "metadata": {},
   "outputs": [],
   "source": [
    "del train_identity, train_transaction, test_identity, test_transaction"
   ]
  },
  {
   "cell_type": "code",
   "execution_count": null,
   "metadata": {},
   "outputs": [],
   "source": [
    "train.to_pickle('train.pkl')\n",
    "test.to_pickle('test.pkl')"
   ]
  }
 ],
 "metadata": {
  "kernelspec": {
   "display_name": "Python 3",
   "language": "python",
   "name": "python3"
  },
  "language_info": {
   "codemirror_mode": {
    "name": "ipython",
    "version": 3
   },
   "file_extension": ".py",
   "mimetype": "text/x-python",
   "name": "python",
   "nbconvert_exporter": "python",
   "pygments_lexer": "ipython3",
   "version": "3.8.3"
  }
 },
 "nbformat": 4,
 "nbformat_minor": 4
}
